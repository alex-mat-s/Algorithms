{
 "cells": [
  {
   "cell_type": "markdown",
   "id": "ed85265f",
   "metadata": {},
   "source": [
    "# Task2. Algorithms for unconstrained nonlinear optimization. Direct methods\n",
    "Alexandra Matveeva, J4134c"
   ]
  },
  {
   "cell_type": "code",
   "execution_count": 8,
   "id": "2c2fd892",
   "metadata": {},
   "outputs": [],
   "source": [
    "# eps = 0.001 \n",
    "# one-dimensional methods: \n",
    "#      - exhaustive search (brute-force search)\n",
    "#      - dichotomy\n",
    "#      - golden section search"
   ]
  },
  {
   "cell_type": "code",
   "execution_count": 117,
   "id": "44380df2",
   "metadata": {},
   "outputs": [],
   "source": [
    "import math\n",
    "import numpy as np\n",
    "import random\n",
    "import matplotlib.pyplot as plt\n",
    "import scipy"
   ]
  },
  {
   "cell_type": "code",
   "execution_count": 56,
   "id": "a381e367",
   "metadata": {},
   "outputs": [],
   "source": [
    "def cube_func(x, f_count):\n",
    "    f_count += 1\n",
    "    return [x ** 3, f_count]"
   ]
  },
  {
   "cell_type": "code",
   "execution_count": 93,
   "id": "d8cbf37a",
   "metadata": {},
   "outputs": [],
   "source": [
    "def abs_func(x, f_count):\n",
    "    f_count += 1\n",
    "    return [math.fabs(x - 0.2), f_count]"
   ]
  },
  {
   "cell_type": "code",
   "execution_count": 82,
   "id": "e974da77",
   "metadata": {},
   "outputs": [],
   "source": [
    "def sin_func(x, f_count):\n",
    "    f_count += 1\n",
    "    return [x * np.sin(1/x), f_count]"
   ]
  },
  {
   "cell_type": "code",
   "execution_count": 13,
   "id": "63afe1d4",
   "metadata": {},
   "outputs": [],
   "source": [
    "eps = 1e-3"
   ]
  },
  {
   "cell_type": "code",
   "execution_count": 78,
   "id": "3771090d",
   "metadata": {},
   "outputs": [],
   "source": [
    "# exhaustive search method (brute-force search)\n",
    "def exhaustive_method(a, b, func):\n",
    "    f_count = 0\n",
    "    it = 1 #number of iterations\n",
    "    n = int((b - a) / eps)\n",
    "    arg = a\n",
    "    f_min, f_count = func(a, f_count) # k = 0\n",
    "    for k in range(1, n):\n",
    "        it += 1\n",
    "        x = a + k * (b - a) / n\n",
    "        f, f_count = func(x, f_count)\n",
    "        if(f <= f_min):\n",
    "            arg = x\n",
    "            f_min = f\n",
    "    print(f'{func}:\\t ','arg = {:.3f} Minimum: {:.3f} Number of f-calculations: {:.0f} Iterations: {:.0f}'.format(arg, f_min, f_count, it))\n",
    "#     print('x = ', arg)\n",
    "#     print('f(x) = ', f_min)"
   ]
  },
  {
   "cell_type": "code",
   "execution_count": 86,
   "id": "a51c9c31",
   "metadata": {},
   "outputs": [],
   "source": [
    "# dichotomy \n",
    "def dichotomy(a, b, func):\n",
    "    f_count = 0 #number of function calculations\n",
    "    it = 1\n",
    "    delta = eps / 2\n",
    "    x1 = (a + b - delta) / 2\n",
    "    x2 = (a + b + delta) / 2\n",
    "    f1, f_count = func(x1, f_count)\n",
    "    f2, f_count = func(x2, f_count)\n",
    "    while(abs(a - b) >= eps):\n",
    "        it += 1\n",
    "        if(f1 <= f2):\n",
    "            b = x2\n",
    "        else:\n",
    "            a = x1\n",
    "        x1 = (a + b - delta) / 2\n",
    "        x2 = (a + b + delta) / 2\n",
    "        f1, f_count = func(x1, f_count)\n",
    "        f2, f_count = func(x2, f_count)\n",
    "    x = (x1 + x2) / 2\n",
    "    f_min, f_count = func(x, f_count)\n",
    "    print(f'{func}:\\t ','arg = {:.3f} Minimum: {:.3f} Number of f-calculations: {:.0f} Iterations: {:.0f}'.format(x, f_min, f_count, it))\n",
    "#     print('x = ', x)\n",
    "#     print('f(x) = ', f_min)"
   ]
  },
  {
   "cell_type": "code",
   "execution_count": 91,
   "id": "e7cb9aa1",
   "metadata": {},
   "outputs": [],
   "source": [
    "# golden section search\n",
    "def goldenSection_func(a, b, func):\n",
    "    f_count = 0 # number of function calculations\n",
    "    it = 1 # number of iterations\n",
    "    alpha1 = (3 - 5 ** 0.5) / 2\n",
    "    alpha2 = (5 ** 0.5 - 3) / 2\n",
    "    \n",
    "    x1 = a + alpha1 * (b - a)\n",
    "    x2 = b + alpha2 * (b - a)\n",
    "    f_x1, f_count = func(x1, f_count)\n",
    "    f_x2, f_count = func(x2, f_count)\n",
    "    \n",
    "    while(abs(a - b) >= eps):\n",
    "        it += 1\n",
    "        f_x1, f_count = func(x1, f_count)\n",
    "        f_x2, f_count = func(x2, f_count)\n",
    "        \n",
    "        if(f_x1 <= f_x2):\n",
    "            b = x2\n",
    "            x2 = x1\n",
    "            x1 = a + alpha1 * (b - a)\n",
    "        else:\n",
    "            a = x1 \n",
    "            x1 = x2\n",
    "            x2 = b + alpha2 * (b - a)\n",
    "            \n",
    "    x = (x1 + x2) / 2\n",
    "    f_min, f_count = func(x, f_count)\n",
    "    print(f'{func}:\\t ','arg = {:.3f} Minimum: {:.3f} Number of f-calculations: {:.0f} Iterations: {:.0f}'.format(x, f_min, f_count, it))\n",
    "#     print('x = ', x)\n",
    "#     print('f(x) = ', f_min)"
   ]
  },
  {
   "cell_type": "code",
   "execution_count": 94,
   "id": "85e888ec",
   "metadata": {},
   "outputs": [
    {
     "name": "stdout",
     "output_type": "stream",
     "text": [
      "Exhaustive search (Brute-force)\n",
      "<function cube_func at 0x00000225197DEAF0>:\t  arg = 0.000 Minimum: 0.000 Number of f-calculations: 1000 Iterations: 1000\n",
      "<function abs_func at 0x0000022519709B80>:\t  arg = 0.200 Minimum: 0.000 Number of f-calculations: 1000 Iterations: 1000\n",
      "<function sin_func at 0x0000022519644AF0>:\t  arg = 0.223 Minimum: -0.217 Number of f-calculations: 990 Iterations: 990\n",
      "\n",
      "Dichotomy search method\n",
      "<function cube_func at 0x00000225197DEAF0>:\t  arg = 0.000 Minimum: 0.000 Number of f-calculations: 25 Iterations: 12\n",
      "<function abs_func at 0x0000022519709B80>:\t  arg = 0.200 Minimum: 0.000 Number of f-calculations: 25 Iterations: 12\n",
      "<function sin_func at 0x0000022519644AF0>:\t  arg = 0.223 Minimum: -0.217 Number of f-calculations: 25 Iterations: 12\n",
      "\n",
      "Golden section search method\n",
      "<function cube_func at 0x00000225197DEAF0>:\t  arg = 0.000 Minimum: 0.000 Number of f-calculations: 33 Iterations: 16\n",
      "<function abs_func at 0x0000022519709B80>:\t  arg = 0.200 Minimum: 0.000 Number of f-calculations: 33 Iterations: 16\n",
      "<function sin_func at 0x0000022519644AF0>:\t  arg = 0.223 Minimum: -0.217 Number of f-calculations: 33 Iterations: 16\n"
     ]
    }
   ],
   "source": [
    "print('Exhaustive search (Brute-force)')\n",
    "exhaustive_method(0, 1, cube_func)\n",
    "exhaustive_method(0, 1, abs_func)\n",
    "exhaustive_method(0.01, 1, sin_func)\n",
    "\n",
    "print('\\nDichotomy search method')\n",
    "dichotomy(0, 1, cube_func)\n",
    "dichotomy(0, 1, abs_func)\n",
    "dichotomy(0.01, 1, sin_func)\n",
    "\n",
    "print('\\nGolden section search method')\n",
    "goldenSection_func(0, 1, cube_func)\n",
    "goldenSection_func(0, 1, abs_func)\n",
    "goldenSection_func(0.01, 1, sin_func)"
   ]
  },
  {
   "cell_type": "code",
   "execution_count": 100,
   "id": "7657cd65",
   "metadata": {},
   "outputs": [
    {
     "name": "stdout",
     "output_type": "stream",
     "text": [
      "0.9419383070301395 0.9115071003220712\n"
     ]
    }
   ],
   "source": [
    "alpha, beta = random.random(), random.random()\n",
    "print(alpha, beta)"
   ]
  },
  {
   "cell_type": "code",
   "execution_count": 108,
   "id": "cd9b0fac",
   "metadata": {},
   "outputs": [],
   "source": [
    "# noisy data generation\n",
    "xk = []\n",
    "yk = []\n",
    "for k in range(101):\n",
    "    x_temp = k / 100\n",
    "    xk.append(x_temp)\n",
    "    yk.append(alpha * x_temp + beta + np.random.normal(0, 1))"
   ]
  },
  {
   "cell_type": "code",
   "execution_count": 114,
   "id": "7f554092",
   "metadata": {},
   "outputs": [],
   "source": [
    "# linear approximation function\n",
    "def linear_approx_func(x, a, b):\n",
    "    return a * x + b    "
   ]
  },
  {
   "cell_type": "code",
   "execution_count": 116,
   "id": "97426aeb",
   "metadata": {},
   "outputs": [],
   "source": [
    "# rational approximation function\n",
    "def rational_approx_func(x, a, b):\n",
    "    return a / (1 + b * x)"
   ]
  },
  {
   "cell_type": "code",
   "execution_count": null,
   "id": "cabb13bc",
   "metadata": {},
   "outputs": [],
   "source": [
    "def least_squared_linear(params, ):\n",
    "    a, b = params\n",
    "    return"
   ]
  },
  {
   "cell_type": "code",
   "execution_count": null,
   "id": "cc8f6687",
   "metadata": {},
   "outputs": [],
   "source": [
    "# linear optimization\n",
    "linear_opt_brute = optimize.brute(least_squares_linear, ([0, 1],[0, 1]), args=(yk, xk, ))"
   ]
  },
  {
   "cell_type": "code",
   "execution_count": 112,
   "id": "caa11d89",
   "metadata": {},
   "outputs": [
    {
     "data": {
      "text/plain": [
       "<matplotlib.legend.Legend at 0x2251ba88040>"
      ]
     },
     "execution_count": 112,
     "metadata": {},
     "output_type": "execute_result"
    },
    {
     "data": {
      "image/png": "[encoded data removed]",
      "text/plain": [
       "<Figure size 864x576 with 1 Axes>"
      ]
     },
     "metadata": {
      "needs_background": "light"
     },
     "output_type": "display_data"
    }
   ],
   "source": [
    "plt.figure(figsize=(12, 8))\n",
    "plt.grid()\n",
    "plt.plot(xk, yk, 'ro')\n",
    "plt.legend(['Noisy data'])"
   ]
  },
  {
   "cell_type": "code",
   "execution_count": null,
   "id": "c9511f49",
   "metadata": {},
   "outputs": [],
   "source": []
  }
 ],
 "metadata": {
  "kernelspec": {
   "display_name": "Python 3",
   "language": "python",
   "name": "python3"
  },
  "language_info": {
   "codemirror_mode": {
    "name": "ipython",
    "version": 3
   },
   "file_extension": ".py",
   "mimetype": "text/x-python",
   "name": "python",
   "nbconvert_exporter": "python",
   "pygments_lexer": "ipython3",
   "version": "3.8.8"
  }
 },
 "nbformat": 4,
 "nbformat_minor": 5
}
