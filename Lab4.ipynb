{
  "nbformat": 4,
  "nbformat_minor": 0,
  "metadata": {
    "colab": {
      "name": "Algorithms_lab4.ipynb",
      "provenance": [],
      "collapsed_sections": []
    },
    "kernelspec": {
      "name": "python3",
      "display_name": "Python 3"
    },
    "language_info": {
      "name": "python"
    }
  },
  "cells": [
    {
      "cell_type": "markdown",
      "metadata": {
        "id": "1qJhuGS33Rvs"
      },
      "source": [
        "# Task 4. Algorithms for unconstrained nonlinear optimization. Stochastic and metaheuristic algorithms\n",
        "Alexandra Matveeva J4134c"
      ]
    },
    {
      "cell_type": "code",
      "metadata": {
        "id": "acoOkrflFUP6"
      },
      "source": [
        "import numpy as np\n",
        "import random\n",
        "import matplotlib.pyplot as plt\n",
        "import scipy.optimize\n",
        "from scipy import optimize, spatial\n",
        "import pandas as pd\n",
        "import os\n",
        "import urllib.request\n",
        "import math"
      ],
      "execution_count": 58,
      "outputs": []
    },
    {
      "cell_type": "code",
      "metadata": {
        "id": "S7X7m2AWK1fc"
      },
      "source": [
        "eps = 1e-3\n",
        "iter_max = 1000"
      ],
      "execution_count": 59,
      "outputs": []
    },
    {
      "cell_type": "code",
      "metadata": {
        "id": "vSqoxXSsFYAB"
      },
      "source": [
        "def f_x(x):\n",
        "  return 1 / (x**2 - 3 * x + 2)"
      ],
      "execution_count": 60,
      "outputs": []
    },
    {
      "cell_type": "code",
      "metadata": {
        "id": "nrTI5xfI1_Tb"
      },
      "source": [
        "# data generation\n",
        "\n",
        "xk = []\n",
        "yk = []\n",
        "\n",
        "for k in range(1001):\n",
        "  xk.append(3 * k / 1000)\n",
        "  f = f_x(xk[k])\n",
        "  if(f < -100):\n",
        "    yk.append(-100 + np.random.normal(0, 1))\n",
        "  elif (f >= -100 and f <= 100):\n",
        "    yk.append(f + np.random.normal(0, 1))\n",
        "  else:\n",
        "    yk.append(100 + np.random.normal(0, 1))\n",
        "xk = np.array(xk)\n",
        "yk = np.array(yk)\n"
      ],
      "execution_count": 61,
      "outputs": []
    },
    {
      "cell_type": "code",
      "metadata": {
        "id": "EXXad2iSGi_z"
      },
      "source": [
        "def rational_approx(x, a, b, c, d):\n",
        "  return (a * x + b) / (x ** 2 + c * x + d)"
      ],
      "execution_count": 62,
      "outputs": []
    },
    {
      "cell_type": "code",
      "metadata": {
        "id": "hdZ4oAtrGt6K"
      },
      "source": [
        "def D(params, yk, x):\n",
        "  a, b, c, d = params\n",
        "\n",
        "  return sum((rational_approx(x, a, b, c, d) - yk) ** 2)"
      ],
      "execution_count": 63,
      "outputs": []
    },
    {
      "cell_type": "code",
      "metadata": {
        "id": "ZlAgrUD1H_er"
      },
      "source": [
        "# Nelder-Mead algorithm\n",
        "nelderMead = scipy.optimize.minimize(D, [0.1, 0.1, 0.1, 0.1], args=(yk, xk), method='Nelder-Mead', tol=eps)"
      ],
      "execution_count": 64,
      "outputs": []
    },
    {
      "cell_type": "code",
      "metadata": {
        "id": "gQaLAAePIS5C"
      },
      "source": [
        "# Levenberg-Marquardt\n",
        "def reseduals(params, yk, x): \n",
        "  a, b, c, d = params\n",
        "  res = np.zeros(len(x))\n",
        "  for i in range(len(x)):\n",
        "    res[i] = (a * x[i] + b) / (x[i] ** 2 + c * x[i] + d) - yk[i]\n",
        "  return res\n",
        "\n",
        "lm = scipy.optimize.least_squares(reseduals, [0.1, 0.1, 0.1, 0.1], args=(yk, xk), method='lm', xtol=eps)"
      ],
      "execution_count": 65,
      "outputs": []
    },
    {
      "cell_type": "code",
      "metadata": {
        "id": "n195zWXhP-e-"
      },
      "source": [
        "# Simulated Annealing\n",
        "r_min, r_max = -5, 5\n",
        "\n",
        "annealing = scipy.optimize.dual_annealing(D, ((r_min, r_max), (r_min, r_max), (r_min, r_max), (r_min, r_max)), args=(yk, xk))"
      ],
      "execution_count": 70,
      "outputs": []
    },
    {
      "cell_type": "code",
      "metadata": {
        "id": "j042ZeRSTiKX"
      },
      "source": [
        "# Differential Evolution\n",
        "\n",
        "diff_evol = scipy.optimize.differential_evolution(D, ((r_min, r_max), (r_min, r_max), (r_min, r_max), (r_min, r_max)), args=(yk, xk), maxiter=1000)"
      ],
      "execution_count": 67,
      "outputs": []
    },
    {
      "cell_type": "code",
      "metadata": {
        "colab": {
          "base_uri": "https://localhost:8080/"
        },
        "id": "sFrTcwQ1X5Bp",
        "outputId": "af575288-3f1e-4eed-d146-76226c182cb3"
      },
      "source": [
        "# Reaults\n",
        "print(f'Nelder-Mead method: {nelderMead.x} function evaluations: {nelderMead.nfev} iterations: {nelderMead.nit}')\n",
        "print(f'Levenberg-Marquardt method: {lm.x} function evaluations: {lm.nfev}')\n",
        "print(f'Simulated Annealing: {annealing.x} function evaluations: {annealing.nfev} iterations: {annealing.nit}')\n",
        "print(f'Differential Evolution: {diff_evol.x} function evaluations: {diff_evol.nfev} iterations: {diff_evol.nit}')"
      ],
      "execution_count": 71,
      "outputs": [
        {
          "output_type": "stream",
          "name": "stdout",
          "text": [
            "Nelder-Mead method: [-0.77635305  0.77673564 -2.00095739  1.00096738] function evaluations: 493 iterations: 282\n",
            "Levenberg-Marquardt method: [-1.0015689   1.00204634 -2.00088087  1.00089717] function evaluations: 183\n",
            "Simulated Annealing: [-0.99865385  0.99915328 -2.00097239  1.00098857] function evaluations: 9116 iterations: 1000\n",
            "Differential Evolution: [-0.99878812  0.99928753 -2.00097149  1.00098767] function evaluations: 1260 iterations: 4\n"
          ]
        }
      ]
    },
    {
      "cell_type": "code",
      "metadata": {
        "colab": {
          "base_uri": "https://localhost:8080/",
          "height": 610
        },
        "id": "3CN-IUE8Jxwc",
        "outputId": "dbaac34a-479f-4026-e345-c81059a90c98"
      },
      "source": [
        "nelderMead_y = []\n",
        "for k in range(1001):\n",
        "  nelderMead_y.append((nelderMead.x[0] * xk[k] + nelderMead.x[1]) / (xk[k] ** 2 + nelderMead.x[2] * xk[k] + nelderMead.x[3]))\n",
        "\n",
        "lm_y = []\n",
        "for k in range(1001):\n",
        "  lm_y.append((lm.x[0] * xk[k] + lm.x[1]) / (xk[k] ** 2 + lm.x[2] * xk[k] + lm.x[3]))\n",
        "\n",
        "annealing_y = []\n",
        "for k in range(1001):\n",
        "  annealing_y.append((annealing.x[0] * xk[k] + annealing.x[1]) / (xk[k] ** 2 + annealing.x[2] * xk[k] + annealing.x[3]))  \n",
        "\n",
        "diff_evol_y = []\n",
        "for k in range(1001):\n",
        "  diff_evol_y.append((diff_evol.x[0] * xk[k] + diff_evol.x[1]) / (xk[k] ** 2 + diff_evol.x[2] * xk[k] + diff_evol.x[3]))  \n",
        "\n",
        "\n",
        "plt.figure(figsize=(10, 10))\n",
        "plt.grid(True)\n",
        "plt.plot(xk, yk)\n",
        "plt.plot(xk, nelderMead_y)\n",
        "plt.plot(xk, lm_y)\n",
        "plt.plot(xk, annealing_y)\n",
        "plt.plot(xk, diff_evol_y)\n",
        "plt.legend(['Initial data', 'Nelder-Mead algorithm', 'Levenberg-Marquardt', 'Annealing method', 'Differential Evolution'])"
      ],
      "execution_count": 72,
      "outputs": [
        {
          "output_type": "execute_result",
          "data": {
            "text/plain": [
              "<matplotlib.legend.Legend at 0x7f3111f39e50>"
            ]
          },
          "metadata": {},
          "execution_count": 72
        },
        {
          "output_type": "display_data",
          "data": {
            "image/png": "[encoded data removed]",
            "text/plain": [
              "<Figure size 720x720 with 1 Axes>"
            ]
          },
          "metadata": {
            "needs_background": "light"
          }
        }
      ]
    },
    {
      "cell_type": "markdown",
      "metadata": {
        "id": "ozbJkCHcaHyX"
      },
      "source": [
        "II part"
      ]
    },
    {
      "cell_type": "code",
      "metadata": {
        "id": "8k0V1bmiJ0jj"
      },
      "source": [
        "# Travelling Salesman Problem\n",
        "# Simulated Annealing method"
      ],
      "execution_count": 13,
      "outputs": []
    },
    {
      "cell_type": "code",
      "metadata": {
        "id": "xhXVvroXnN_W"
      },
      "source": [
        "def initParameter():\n",
        "    # custom function initParameter():\n",
        "    # Initial parameter for simulated annealing algorithm\n",
        "    tInitial = 100.0                # (initial temperature)\n",
        "    tFinal  = 1                     # (stop temperature)\n",
        "    nMarkov = 1000                  # Markov\n",
        "    alfa    = 0.98                  # T(k)=alfa*T(k-1)\n",
        "\n",
        "    return tInitial,tFinal,alfa,nMarkov"
      ],
      "execution_count": 15,
      "outputs": []
    },
    {
      "cell_type": "code",
      "metadata": {
        "id": "SaCOiJYNnuN1"
      },
      "source": [
        "def calTourMileage(tourGiven, nCities, distMat):\n",
        "    # custom function caltourMileage(nCities, tour, distMat):\n",
        "    # to compute mileage of the given tour\n",
        "    mileageTour = distMat[tourGiven[nCities-1], tourGiven[0]]   # dist((n-1),0)\n",
        "    for i in range(nCities-1):                                  # dist(0,1),...dist((n-2)(n-1))\n",
        "        mileageTour += distMat[tourGiven[i], tourGiven[i+1]]\n",
        "    return round(mileageTour)   "
      ],
      "execution_count": 16,
      "outputs": []
    },
    {
      "cell_type": "code",
      "metadata": {
        "id": "7Opax45yoclG"
      },
      "source": [
        "def mutateSwap(tourGiven, nCities):\n",
        "    # custom function mutateSwap(nCities, tourNow)\n",
        "    # produce a mutation tour with 2-Swap operator\n",
        "    # swap the position of two Cities in the given tour\n",
        "\n",
        "    #  [0,n)  2 i,j\n",
        "    i = np.random.randint(nCities)          #  [0,n) \n",
        "    while True:\n",
        "        j = np.random.randint(nCities)      #  [0,n) \n",
        "        if i!=j: break                      #  i, j \n",
        "\n",
        "    tourSwap = tourGiven.copy()             #  tourSwap\n",
        "    tourSwap[i],tourSwap[j] = tourGiven[j],tourGiven[i] #   i  j \n",
        "\n",
        "    return tourSwap"
      ],
      "execution_count": 17,
      "outputs": []
    },
    {
      "cell_type": "code",
      "metadata": {
        "id": "BAKe0kWfooU2"
      },
      "source": [
        "def plot_tour(tour, value, coordinates):\n",
        "    # custom function plot_tour(tour, nCities, coordinates)\n",
        "\n",
        "    num = len(tour)\n",
        "    x0, y0 = coordinates[tour[num - 1]]\n",
        "    x1, y1 = coordinates[tour[0]]\n",
        "    plt.scatter(int(x0), int(y0), s=15, c='r')      #  C(n-1)\n",
        "    plt.plot([x1, x0], [y1, y0], c='b')             #  C(n-1)~C(0)\n",
        "    for i in range(num - 1):\n",
        "        x0, y0 = coordinates[tour[i]]\n",
        "        x1, y1 = coordinates[tour[i + 1]]\n",
        "        plt.scatter(int(x0), int(y0), s=15, c='r')  #  C(i)\n",
        "        plt.plot([x1, x0], [y1, y0], c='b')         #  C(i)~C(i+1)\n",
        "\n",
        "    plt.xlabel(\"Total mileage of the tour:{:.1f}\".format(value))\n",
        "    plt.title(\"Optimization tour of TSP{:d}\".format(num))  # \n",
        "    plt.show()"
      ],
      "execution_count": 18,
      "outputs": []
    },
    {
      "cell_type": "code",
      "metadata": {
        "id": "nU29K-iOpDVv"
      },
      "source": [
        "filename = 'kn57_xy.txt'\n",
        "link = 'https://people.sc.fsu.edu/~jburkardt/datasets/cities/kn57_xy.txt'\n",
        "if not os.path.exists(filename):\n",
        "  urllib.request.urlretrieve(link, filename)\n",
        "\n",
        "\n",
        "with open(filename) as input_file:\n",
        "  data = input_file.readlines()[6:-1]\n",
        "\n",
        "data = [line.strip() for line in data]\n",
        "data = [line.split() for line in data]\n",
        "data = np.array(data, dtype=float)\n",
        "dist_matrix = spatial.distance.squareform(spatial.distance.pdist(data))"
      ],
      "execution_count": 28,
      "outputs": []
    },
    {
      "cell_type": "code",
      "metadata": {
        "id": "SzPzVNHKpEqW"
      },
      "source": [
        "tInitial,tFinal,alfa,nMarkov = initParameter()  "
      ],
      "execution_count": 29,
      "outputs": []
    },
    {
      "cell_type": "code",
      "metadata": {
        "id": "b_w8d4g3pMQH"
      },
      "source": [
        "nCities = data.shape[0]             #   nCities\n",
        "nMarkov = nCities                   #   Markov \n",
        "tNow    = tInitial                  #   (current temperature)"
      ],
      "execution_count": 30,
      "outputs": []
    },
    {
      "cell_type": "code",
      "metadata": {
        "id": "AItV-MEApRBO"
      },
      "source": [
        "tourNow   = np.arange(nCities)   # 01n \n",
        "valueNow  = calTourMileage(tourNow, nCities, dist_matrix) #  valueNow\n",
        "tourBest  = tourNow.copy()                          #  tourNow\n",
        "valueBest = valueNow                                #  valueNow\n",
        "recordBest = []                                     #  \n",
        "recordNow  = []                                     #"
      ],
      "execution_count": 31,
      "outputs": []
    },
    {
      "cell_type": "code",
      "metadata": {
        "colab": {
          "base_uri": "https://localhost:8080/",
          "height": 295
        },
        "id": "4Y3el54TpZ3X",
        "outputId": "c0d22af0-a623-49e5-8547-e46f51cd3c7c"
      },
      "source": [
        "figure = plt.figure()     #  1\n",
        "plot_tour(tourBest, valueBest, data)"
      ],
      "execution_count": 32,
      "outputs": [
        {
          "output_type": "display_data",
          "data": {
            "image/png": "[encoded data removed]",
            "text/plain": [
              "<Figure size 432x288 with 1 Axes>"
            ]
          },
          "metadata": {
            "needs_background": "light"
          }
        }
      ]
    },
    {
      "cell_type": "code",
      "metadata": {
        "colab": {
          "base_uri": "https://localhost:8080/",
          "height": 1000
        },
        "id": "m4pdy8kvnoh9",
        "outputId": "5f0effa3-c4d2-428e-ee07-63549aced944"
      },
      "source": [
        "iter = 0                        # \n",
        "while tNow >= tFinal:           # \n",
        "    # (nMarkov)\n",
        "\n",
        "    for k in range(nMarkov):    # Markov\n",
        "        # \n",
        "        tourNew = mutateSwap(tourNow, nCities)      #   \n",
        "        # tourNew,deltaE = mutateSwapE(tourNow,nCities,distMat)   #    deltaE\n",
        "        valueNew = calTourMileage(tourNew, nCities, dist_matrix) # \n",
        "        deltaE = valueNew - valueNow\n",
        "\n",
        "        #  Metropolis \n",
        "        if deltaE < 0:                          # \n",
        "            accept = True\n",
        "            if valueNew < valueBest:            # \n",
        "                tourBest[:] = tourNew[:]\n",
        "                valueBest = valueNew\n",
        "        else:                                   # \n",
        "            pAccept = math.exp(-deltaE/tNow)    # \n",
        "            if pAccept > random.random():\n",
        "                accept = True\n",
        "            else:\n",
        "                accept = False\n",
        "\n",
        "        # \n",
        "        if accept == True:                      # \n",
        "            tourNow[:] = tourNew[:]\n",
        "            valueNow = valueNew\n",
        "\n",
        "    #  0,n-1\n",
        "    tourNow = np.roll(tourNow,2)                # \n",
        "\n",
        "    # \n",
        "    recordBest.append(valueBest)                #  \n",
        "    recordNow.append(valueNow)                  #  \n",
        "    print('i:{}, t(i):{:.2f}, valueNow:{:.1f}, valueBest:{:.1f}'.format(iter,tNow,valueNow,valueBest))\n",
        "\n",
        "    # \n",
        "    iter = iter + 1\n",
        "    tNow = tNow * alfa                              # T(k)=alfa*T(k-1)\n",
        "\n",
        "# \n",
        "\n",
        "# \n",
        "figure1 = plt.figure()     #  1\n",
        "plot_tour(tourBest, valueBest, data)\n",
        "\n",
        "\n",
        "print(\"Tour verification successful!\")\n",
        "print(\"Best tour: \\n\", tourBest)\n",
        "print(\"Best value: {:.1f}\".format(valueBest))"
      ],
      "execution_count": 33,
      "outputs": [
        {
          "output_type": "stream",
          "name": "stdout",
          "text": [
            "i:0, t(i):100.00, valueNow:38761.0, valueBest:38761.0\n",
            "i:1, t(i):98.00, valueNow:35874.0, valueBest:35874.0\n",
            "i:2, t(i):96.04, valueNow:31865.0, valueBest:31865.0\n",
            "i:3, t(i):94.12, valueNow:30704.0, valueBest:30704.0\n",
            "i:4, t(i):92.24, valueNow:26987.0, valueBest:26987.0\n",
            "i:5, t(i):90.39, valueNow:25797.0, valueBest:25581.0\n",
            "i:6, t(i):88.58, valueNow:25896.0, valueBest:25581.0\n",
            "i:7, t(i):86.81, valueNow:25393.0, valueBest:25393.0\n",
            "i:8, t(i):85.08, valueNow:25550.0, valueBest:25393.0\n",
            "i:9, t(i):83.37, valueNow:23806.0, valueBest:23806.0\n",
            "i:10, t(i):81.71, valueNow:22649.0, valueBest:22649.0\n",
            "i:11, t(i):80.07, valueNow:22447.0, valueBest:22436.0\n",
            "i:12, t(i):78.47, valueNow:21949.0, valueBest:21807.0\n",
            "i:13, t(i):76.90, valueNow:21977.0, valueBest:21722.0\n",
            "i:14, t(i):75.36, valueNow:21593.0, valueBest:21593.0\n",
            "i:15, t(i):73.86, valueNow:21583.0, valueBest:21481.0\n",
            "i:16, t(i):72.38, valueNow:21618.0, valueBest:21481.0\n",
            "i:17, t(i):70.93, valueNow:21021.0, valueBest:21021.0\n",
            "i:18, t(i):69.51, valueNow:20551.0, valueBest:20541.0\n",
            "i:19, t(i):68.12, valueNow:20446.0, valueBest:20446.0\n",
            "i:20, t(i):66.76, valueNow:20071.0, valueBest:20071.0\n",
            "i:21, t(i):65.43, valueNow:20170.0, valueBest:20071.0\n",
            "i:22, t(i):64.12, valueNow:20134.0, valueBest:20071.0\n",
            "i:23, t(i):62.83, valueNow:19860.0, valueBest:19860.0\n",
            "i:24, t(i):61.58, valueNow:19860.0, valueBest:19860.0\n",
            "i:25, t(i):60.35, valueNow:19754.0, valueBest:19754.0\n",
            "i:26, t(i):59.14, valueNow:19755.0, valueBest:19754.0\n",
            "i:27, t(i):57.96, valueNow:19632.0, valueBest:19632.0\n",
            "i:28, t(i):56.80, valueNow:19632.0, valueBest:19632.0\n",
            "i:29, t(i):55.66, valueNow:19742.0, valueBest:19582.0\n",
            "i:30, t(i):54.55, valueNow:19410.0, valueBest:19410.0\n",
            "i:31, t(i):53.46, valueNow:19346.0, valueBest:19346.0\n",
            "i:32, t(i):52.39, valueNow:19400.0, valueBest:19346.0\n",
            "i:33, t(i):51.34, valueNow:19351.0, valueBest:19346.0\n",
            "i:34, t(i):50.31, valueNow:19560.0, valueBest:19346.0\n",
            "i:35, t(i):49.31, valueNow:19403.0, valueBest:19346.0\n",
            "i:36, t(i):48.32, valueNow:19584.0, valueBest:19346.0\n",
            "i:37, t(i):47.35, valueNow:19584.0, valueBest:19346.0\n",
            "i:38, t(i):46.41, valueNow:19598.0, valueBest:19346.0\n",
            "i:39, t(i):45.48, valueNow:19429.0, valueBest:19346.0\n",
            "i:40, t(i):44.57, valueNow:19180.0, valueBest:19180.0\n",
            "i:41, t(i):43.68, valueNow:19041.0, valueBest:19041.0\n",
            "i:42, t(i):42.81, valueNow:18898.0, valueBest:18898.0\n",
            "i:43, t(i):41.95, valueNow:18384.0, valueBest:18384.0\n",
            "i:44, t(i):41.11, valueNow:18458.0, valueBest:18384.0\n",
            "i:45, t(i):40.29, valueNow:18202.0, valueBest:18202.0\n",
            "i:46, t(i):39.48, valueNow:17877.0, valueBest:17877.0\n",
            "i:47, t(i):38.69, valueNow:17785.0, valueBest:17785.0\n",
            "i:48, t(i):37.92, valueNow:17637.0, valueBest:17637.0\n",
            "i:49, t(i):37.16, valueNow:17570.0, valueBest:17570.0\n",
            "i:50, t(i):36.42, valueNow:17452.0, valueBest:17452.0\n",
            "i:51, t(i):35.69, valueNow:17465.0, valueBest:17452.0\n",
            "i:52, t(i):34.97, valueNow:17465.0, valueBest:17452.0\n",
            "i:53, t(i):34.28, valueNow:17465.0, valueBest:17452.0\n",
            "i:54, t(i):33.59, valueNow:17358.0, valueBest:17339.0\n",
            "i:55, t(i):32.92, valueNow:17137.0, valueBest:17137.0\n",
            "i:56, t(i):32.26, valueNow:17137.0, valueBest:17137.0\n",
            "i:57, t(i):31.61, valueNow:16814.0, valueBest:16814.0\n",
            "i:58, t(i):30.98, valueNow:16814.0, valueBest:16814.0\n",
            "i:59, t(i):30.36, valueNow:16786.0, valueBest:16786.0\n",
            "i:60, t(i):29.76, valueNow:15696.0, valueBest:15696.0\n",
            "i:61, t(i):29.16, valueNow:15758.0, valueBest:15696.0\n",
            "i:62, t(i):28.58, valueNow:15674.0, valueBest:15674.0\n",
            "i:63, t(i):28.01, valueNow:15674.0, valueBest:15674.0\n",
            "i:64, t(i):27.45, valueNow:15619.0, valueBest:15619.0\n",
            "i:65, t(i):26.90, valueNow:15599.0, valueBest:15599.0\n",
            "i:66, t(i):26.36, valueNow:15308.0, valueBest:15308.0\n",
            "i:67, t(i):25.83, valueNow:15308.0, valueBest:15308.0\n",
            "i:68, t(i):25.31, valueNow:15308.0, valueBest:15308.0\n",
            "i:69, t(i):24.81, valueNow:15281.0, valueBest:15281.0\n",
            "i:70, t(i):24.31, valueNow:15218.0, valueBest:15218.0\n",
            "i:71, t(i):23.83, valueNow:15218.0, valueBest:15218.0\n",
            "i:72, t(i):23.35, valueNow:14652.0, valueBest:14652.0\n",
            "i:73, t(i):22.88, valueNow:14604.0, valueBest:14604.0\n",
            "i:74, t(i):22.42, valueNow:14604.0, valueBest:14604.0\n",
            "i:75, t(i):21.98, valueNow:14604.0, valueBest:14604.0\n",
            "i:76, t(i):21.54, valueNow:14433.0, valueBest:14433.0\n",
            "i:77, t(i):21.11, valueNow:14433.0, valueBest:14433.0\n",
            "i:78, t(i):20.68, valueNow:14433.0, valueBest:14433.0\n",
            "i:79, t(i):20.27, valueNow:14433.0, valueBest:14433.0\n",
            "i:80, t(i):19.86, valueNow:14433.0, valueBest:14433.0\n",
            "i:81, t(i):19.47, valueNow:14433.0, valueBest:14433.0\n",
            "i:82, t(i):19.08, valueNow:14413.0, valueBest:14413.0\n",
            "i:83, t(i):18.70, valueNow:14413.0, valueBest:14413.0\n",
            "i:84, t(i):18.32, valueNow:14413.0, valueBest:14413.0\n",
            "i:85, t(i):17.96, valueNow:14431.0, valueBest:14413.0\n",
            "i:86, t(i):17.60, valueNow:14431.0, valueBest:14413.0\n",
            "i:87, t(i):17.25, valueNow:14431.0, valueBest:14413.0\n",
            "i:88, t(i):16.90, valueNow:14431.0, valueBest:14413.0\n",
            "i:89, t(i):16.56, valueNow:14431.0, valueBest:14413.0\n",
            "i:90, t(i):16.23, valueNow:14431.0, valueBest:14413.0\n",
            "i:91, t(i):15.91, valueNow:14431.0, valueBest:14413.0\n",
            "i:92, t(i):15.59, valueNow:14431.0, valueBest:14413.0\n",
            "i:93, t(i):15.28, valueNow:14431.0, valueBest:14413.0\n",
            "i:94, t(i):14.97, valueNow:14431.0, valueBest:14413.0\n",
            "i:95, t(i):14.67, valueNow:14431.0, valueBest:14413.0\n",
            "i:96, t(i):14.38, valueNow:14431.0, valueBest:14413.0\n",
            "i:97, t(i):14.09, valueNow:14431.0, valueBest:14413.0\n",
            "i:98, t(i):13.81, valueNow:14431.0, valueBest:14413.0\n",
            "i:99, t(i):13.53, valueNow:14431.0, valueBest:14413.0\n",
            "i:100, t(i):13.26, valueNow:14322.0, valueBest:14322.0\n",
            "i:101, t(i):13.00, valueNow:14322.0, valueBest:14322.0\n",
            "i:102, t(i):12.74, valueNow:14322.0, valueBest:14322.0\n",
            "i:103, t(i):12.48, valueNow:14322.0, valueBest:14322.0\n",
            "i:104, t(i):12.23, valueNow:14322.0, valueBest:14322.0\n",
            "i:105, t(i):11.99, valueNow:14322.0, valueBest:14322.0\n",
            "i:106, t(i):11.75, valueNow:14322.0, valueBest:14322.0\n",
            "i:107, t(i):11.51, valueNow:14322.0, valueBest:14322.0\n",
            "i:108, t(i):11.28, valueNow:14322.0, valueBest:14322.0\n",
            "i:109, t(i):11.06, valueNow:14322.0, valueBest:14322.0\n",
            "i:110, t(i):10.84, valueNow:14322.0, valueBest:14322.0\n",
            "i:111, t(i):10.62, valueNow:14256.0, valueBest:14256.0\n",
            "i:112, t(i):10.41, valueNow:14102.0, valueBest:14102.0\n",
            "i:113, t(i):10.20, valueNow:14102.0, valueBest:14102.0\n",
            "i:114, t(i):9.99, valueNow:14102.0, valueBest:14102.0\n",
            "i:115, t(i):9.79, valueNow:14102.0, valueBest:14102.0\n",
            "i:116, t(i):9.60, valueNow:14102.0, valueBest:14102.0\n",
            "i:117, t(i):9.41, valueNow:14102.0, valueBest:14102.0\n",
            "i:118, t(i):9.22, valueNow:14102.0, valueBest:14102.0\n",
            "i:119, t(i):9.03, valueNow:14097.0, valueBest:14097.0\n",
            "i:120, t(i):8.85, valueNow:14097.0, valueBest:14097.0\n",
            "i:121, t(i):8.68, valueNow:14097.0, valueBest:14097.0\n",
            "i:122, t(i):8.50, valueNow:14097.0, valueBest:14097.0\n",
            "i:123, t(i):8.33, valueNow:14092.0, valueBest:14092.0\n",
            "i:124, t(i):8.17, valueNow:14092.0, valueBest:14092.0\n",
            "i:125, t(i):8.00, valueNow:14103.0, valueBest:14092.0\n",
            "i:126, t(i):7.84, valueNow:14103.0, valueBest:14092.0\n",
            "i:127, t(i):7.69, valueNow:14065.0, valueBest:14065.0\n",
            "i:128, t(i):7.53, valueNow:14065.0, valueBest:14065.0\n",
            "i:129, t(i):7.38, valueNow:14065.0, valueBest:14065.0\n",
            "i:130, t(i):7.23, valueNow:14065.0, valueBest:14065.0\n",
            "i:131, t(i):7.09, valueNow:14065.0, valueBest:14065.0\n",
            "i:132, t(i):6.95, valueNow:14065.0, valueBest:14065.0\n",
            "i:133, t(i):6.81, valueNow:14065.0, valueBest:14065.0\n",
            "i:134, t(i):6.67, valueNow:14070.0, valueBest:14065.0\n",
            "i:135, t(i):6.54, valueNow:14070.0, valueBest:14065.0\n",
            "i:136, t(i):6.41, valueNow:14070.0, valueBest:14065.0\n",
            "i:137, t(i):6.28, valueNow:14024.0, valueBest:14024.0\n",
            "i:138, t(i):6.15, valueNow:14024.0, valueBest:14024.0\n",
            "i:139, t(i):6.03, valueNow:14024.0, valueBest:14024.0\n",
            "i:140, t(i):5.91, valueNow:14024.0, valueBest:14024.0\n",
            "i:141, t(i):5.79, valueNow:14024.0, valueBest:14024.0\n",
            "i:142, t(i):5.68, valueNow:14024.0, valueBest:14024.0\n",
            "i:143, t(i):5.56, valueNow:14024.0, valueBest:14024.0\n",
            "i:144, t(i):5.45, valueNow:14024.0, valueBest:14024.0\n",
            "i:145, t(i):5.34, valueNow:14024.0, valueBest:14024.0\n",
            "i:146, t(i):5.24, valueNow:14024.0, valueBest:14024.0\n",
            "i:147, t(i):5.13, valueNow:14024.0, valueBest:14024.0\n",
            "i:148, t(i):5.03, valueNow:14024.0, valueBest:14024.0\n",
            "i:149, t(i):4.93, valueNow:14024.0, valueBest:14024.0\n",
            "i:150, t(i):4.83, valueNow:14024.0, valueBest:14024.0\n",
            "i:151, t(i):4.73, valueNow:14024.0, valueBest:14024.0\n",
            "i:152, t(i):4.64, valueNow:14024.0, valueBest:14024.0\n",
            "i:153, t(i):4.55, valueNow:14024.0, valueBest:14024.0\n",
            "i:154, t(i):4.45, valueNow:14024.0, valueBest:14024.0\n",
            "i:155, t(i):4.37, valueNow:14024.0, valueBest:14024.0\n",
            "i:156, t(i):4.28, valueNow:14024.0, valueBest:14024.0\n",
            "i:157, t(i):4.19, valueNow:14024.0, valueBest:14024.0\n",
            "i:158, t(i):4.11, valueNow:14024.0, valueBest:14024.0\n",
            "i:159, t(i):4.03, valueNow:14024.0, valueBest:14024.0\n",
            "i:160, t(i):3.95, valueNow:14024.0, valueBest:14024.0\n",
            "i:161, t(i):3.87, valueNow:14024.0, valueBest:14024.0\n",
            "i:162, t(i):3.79, valueNow:14019.0, valueBest:14019.0\n",
            "i:163, t(i):3.71, valueNow:14019.0, valueBest:14019.0\n",
            "i:164, t(i):3.64, valueNow:14019.0, valueBest:14019.0\n",
            "i:165, t(i):3.57, valueNow:14019.0, valueBest:14019.0\n",
            "i:166, t(i):3.50, valueNow:14019.0, valueBest:14019.0\n",
            "i:167, t(i):3.43, valueNow:14019.0, valueBest:14019.0\n",
            "i:168, t(i):3.36, valueNow:14019.0, valueBest:14019.0\n",
            "i:169, t(i):3.29, valueNow:14019.0, valueBest:14019.0\n",
            "i:170, t(i):3.22, valueNow:14019.0, valueBest:14019.0\n",
            "i:171, t(i):3.16, valueNow:14019.0, valueBest:14019.0\n",
            "i:172, t(i):3.10, valueNow:14019.0, valueBest:14019.0\n",
            "i:173, t(i):3.03, valueNow:14019.0, valueBest:14019.0\n",
            "i:174, t(i):2.97, valueNow:14019.0, valueBest:14019.0\n",
            "i:175, t(i):2.91, valueNow:14019.0, valueBest:14019.0\n",
            "i:176, t(i):2.86, valueNow:14019.0, valueBest:14019.0\n",
            "i:177, t(i):2.80, valueNow:14019.0, valueBest:14019.0\n",
            "i:178, t(i):2.74, valueNow:14019.0, valueBest:14019.0\n",
            "i:179, t(i):2.69, valueNow:14019.0, valueBest:14019.0\n",
            "i:180, t(i):2.63, valueNow:14019.0, valueBest:14019.0\n",
            "i:181, t(i):2.58, valueNow:14019.0, valueBest:14019.0\n",
            "i:182, t(i):2.53, valueNow:14019.0, valueBest:14019.0\n",
            "i:183, t(i):2.48, valueNow:14019.0, valueBest:14019.0\n",
            "i:184, t(i):2.43, valueNow:14019.0, valueBest:14019.0\n",
            "i:185, t(i):2.38, valueNow:14019.0, valueBest:14019.0\n",
            "i:186, t(i):2.33, valueNow:14019.0, valueBest:14019.0\n",
            "i:187, t(i):2.29, valueNow:14019.0, valueBest:14019.0\n",
            "i:188, t(i):2.24, valueNow:14019.0, valueBest:14019.0\n",
            "i:189, t(i):2.20, valueNow:14019.0, valueBest:14019.0\n",
            "i:190, t(i):2.15, valueNow:14019.0, valueBest:14019.0\n",
            "i:191, t(i):2.11, valueNow:14019.0, valueBest:14019.0\n",
            "i:192, t(i):2.07, valueNow:14019.0, valueBest:14019.0\n",
            "i:193, t(i):2.03, valueNow:14019.0, valueBest:14019.0\n",
            "i:194, t(i):1.99, valueNow:14019.0, valueBest:14019.0\n",
            "i:195, t(i):1.95, valueNow:14019.0, valueBest:14019.0\n",
            "i:196, t(i):1.91, valueNow:14019.0, valueBest:14019.0\n",
            "i:197, t(i):1.87, valueNow:14019.0, valueBest:14019.0\n",
            "i:198, t(i):1.83, valueNow:14019.0, valueBest:14019.0\n",
            "i:199, t(i):1.79, valueNow:14019.0, valueBest:14019.0\n",
            "i:200, t(i):1.76, valueNow:14019.0, valueBest:14019.0\n",
            "i:201, t(i):1.72, valueNow:14019.0, valueBest:14019.0\n",
            "i:202, t(i):1.69, valueNow:14019.0, valueBest:14019.0\n",
            "i:203, t(i):1.66, valueNow:14019.0, valueBest:14019.0\n",
            "i:204, t(i):1.62, valueNow:14019.0, valueBest:14019.0\n",
            "i:205, t(i):1.59, valueNow:14019.0, valueBest:14019.0\n",
            "i:206, t(i):1.56, valueNow:14019.0, valueBest:14019.0\n",
            "i:207, t(i):1.53, valueNow:14019.0, valueBest:14019.0\n",
            "i:208, t(i):1.50, valueNow:14019.0, valueBest:14019.0\n",
            "i:209, t(i):1.47, valueNow:14019.0, valueBest:14019.0\n",
            "i:210, t(i):1.44, valueNow:14019.0, valueBest:14019.0\n",
            "i:211, t(i):1.41, valueNow:14019.0, valueBest:14019.0\n",
            "i:212, t(i):1.38, valueNow:14019.0, valueBest:14019.0\n",
            "i:213, t(i):1.35, valueNow:14019.0, valueBest:14019.0\n",
            "i:214, t(i):1.33, valueNow:14019.0, valueBest:14019.0\n",
            "i:215, t(i):1.30, valueNow:14019.0, valueBest:14019.0\n",
            "i:216, t(i):1.27, valueNow:14019.0, valueBest:14019.0\n",
            "i:217, t(i):1.25, valueNow:14019.0, valueBest:14019.0\n",
            "i:218, t(i):1.22, valueNow:14019.0, valueBest:14019.0\n",
            "i:219, t(i):1.20, valueNow:14019.0, valueBest:14019.0\n",
            "i:220, t(i):1.17, valueNow:14019.0, valueBest:14019.0\n",
            "i:221, t(i):1.15, valueNow:14019.0, valueBest:14019.0\n",
            "i:222, t(i):1.13, valueNow:14019.0, valueBest:14019.0\n",
            "i:223, t(i):1.11, valueNow:14019.0, valueBest:14019.0\n",
            "i:224, t(i):1.08, valueNow:14019.0, valueBest:14019.0\n",
            "i:225, t(i):1.06, valueNow:14019.0, valueBest:14019.0\n",
            "i:226, t(i):1.04, valueNow:14019.0, valueBest:14019.0\n",
            "i:227, t(i):1.02, valueNow:14019.0, valueBest:14019.0\n"
          ]
        },
        {
          "output_type": "display_data",
          "data": {
            "image/png": "[encoded data removed]",
            "text/plain": [
              "<Figure size 432x288 with 1 Axes>"
            ]
          },
          "metadata": {
            "needs_background": "light"
          }
        },
        {
          "output_type": "stream",
          "name": "stdout",
          "text": [
            "Tour verification successful!\n",
            "Best tour: \n",
            " [27 10  2 31 43 18  8 30 34  1  7 39 33 22 40 36 41 42 13 26 25  3 23 17\n",
            " 45 37 49 32 29 12  0 35  4  5 46  9 20 11 15 38 44 19 47 48  6 14 28 16\n",
            " 21 24]\n",
            "Best value: 14019.0\n"
          ]
        }
      ]
    },
    {
      "cell_type": "code",
      "metadata": {
        "id": "DdXUE6YAoUz3"
      },
      "source": [
        ""
      ],
      "execution_count": 33,
      "outputs": []
    }
  ]
}