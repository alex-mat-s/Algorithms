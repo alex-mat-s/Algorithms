{
 "cells": [
  {
   "cell_type": "markdown",
   "id": "ed85265f",
   "metadata": {},
   "source": [
    "# Task2. Algorithms for unconstrained nonlinear optimization. Direct methods\n",
    "Alexandra Matveeva, J4134c"
   ]
  },
  {
   "cell_type": "code",
   "execution_count": 1,
   "id": "2c2fd892",
   "metadata": {},
   "outputs": [],
   "source": [
    "# eps = 0.001 \n",
    "# one-dimensional methods: \n",
    "#      - exhaustive search\n",
    "#      - dichotomy\n",
    "#      - golden section search"
   ]
  },
  {
   "cell_type": "code",
   "execution_count": 4,
   "id": "44380df2",
   "metadata": {},
   "outputs": [],
   "source": [
    "import math"
   ]
  },
  {
   "cell_type": "code",
   "execution_count": 18,
   "id": "a381e367",
   "metadata": {},
   "outputs": [],
   "source": [
    "def cube_func(x):\n",
    "    return x ** 3"
   ]
  },
  {
   "cell_type": "code",
   "execution_count": 7,
   "id": "d8cbf37a",
   "metadata": {},
   "outputs": [],
   "source": [
    "def abs_func(x):\n",
    "    return math.fabs(x - 0.2)"
   ]
  },
  {
   "cell_type": "code",
   "execution_count": 8,
   "id": "e974da77",
   "metadata": {},
   "outputs": [],
   "source": [
    "def sin_func(x):\n",
    "    return x * sin(1/x)"
   ]
  },
  {
   "cell_type": "code",
   "execution_count": 17,
   "id": "63afe1d4",
   "metadata": {},
   "outputs": [],
   "source": [
    "eps = 1e-3"
   ]
  },
  {
   "cell_type": "code",
   "execution_count": 11,
   "id": "3771090d",
   "metadata": {},
   "outputs": [
    {
     "ename": "SyntaxError",
     "evalue": "unexpected EOF while parsing (<ipython-input-11-92b2297d25ec>, line 1)",
     "output_type": "error",
     "traceback": [
      "\u001b[1;36m  File \u001b[1;32m\"<ipython-input-11-92b2297d25ec>\"\u001b[1;36m, line \u001b[1;32m1\u001b[0m\n\u001b[1;33m    def exhaustive_method():\u001b[0m\n\u001b[1;37m                            ^\u001b[0m\n\u001b[1;31mSyntaxError\u001b[0m\u001b[1;31m:\u001b[0m unexpected EOF while parsing\n"
     ]
    }
   ],
   "source": [
    "# exhaustive search method\n",
    "def exhaustive_method():\n",
    "    "
   ]
  },
  {
   "cell_type": "code",
   "execution_count": 23,
   "id": "a51c9c31",
   "metadata": {},
   "outputs": [],
   "source": [
    "# dichotomy \n",
    "def dichotomy(a0, b0, func):\n",
    "    delta = eps / 2\n",
    "    x1 = (a0 + b0 - delta) / 2\n",
    "    x2 = (a0 + b0 + delta) / 2\n",
    "    while(abs(a0 - b0) >= eps):\n",
    "        if(func(x1) <= func(x2)):\n",
    "            b0 = x2\n",
    "        else:\n",
    "            a0 = x1\n",
    "        x1 = (a0 + b0 - delta) / 2\n",
    "        x2 = (a0 + b0 + delta) / 2\n",
    "    x = (x1 + x2) / 2\n",
    "    f_x = func(x)\n",
    "    print('x = ', x)\n",
    "    print('f(x) = ', f_x)"
   ]
  },
  {
   "cell_type": "code",
   "execution_count": null,
   "id": "e7cb9aa1",
   "metadata": {},
   "outputs": [],
   "source": [
    "# golden section search\n",
    "def goldenSection_func(a0, b0, func)\n",
    "    alpha1 = (3 - 5 ** 0.5) / 2\n",
    "    alpha2 = (5 ** 0.5 - 3) / 2\n",
    "    x1 = a0 + alpha * (b0 - a0)\n",
    "    x2 = b0 + alpha * (b0 - a0)0\n",
    "    if(func(x1) <= func(x2)):\n",
    "        a1, b1, x2 = a0, x2, x1\n",
    "    else:\n",
    "        a1, b1, x1 = x1, b0, x2"
   ]
  },
  {
   "cell_type": "code",
   "execution_count": 24,
   "id": "85e888ec",
   "metadata": {},
   "outputs": [
    {
     "name": "stdout",
     "output_type": "stream",
     "text": [
      "x =  0.0004940185546875001\n",
      "f(x) =  1.2056736854538035e-10\n"
     ]
    }
   ],
   "source": [
    "dichotomy(0, 1, cube_func)"
   ]
  },
  {
   "cell_type": "code",
   "execution_count": null,
   "id": "cd9b0fac",
   "metadata": {},
   "outputs": [],
   "source": []
  }
 ],
 "metadata": {
  "kernelspec": {
   "display_name": "Python 3",
   "language": "python",
   "name": "python3"
  },
  "language_info": {
   "codemirror_mode": {
    "name": "ipython",
    "version": 3
   },
   "file_extension": ".py",
   "mimetype": "text/x-python",
   "name": "python",
   "nbconvert_exporter": "python",
   "pygments_lexer": "ipython3",
   "version": "3.8.8"
  }
 },
 "nbformat": 4,
 "nbformat_minor": 5
}
