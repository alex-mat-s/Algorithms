{
 "cells": [
  {
   "cell_type": "code",
   "execution_count": 1,
   "id": "1d533848",
   "metadata": {},
   "outputs": [],
   "source": [
    "import numpy as np\n",
    "import numpy.random as rand\n",
    "import decimal"
   ]
  },
  {
   "cell_type": "code",
   "execution_count": 2,
   "id": "eb9a515b",
   "metadata": {},
   "outputs": [],
   "source": [
    "#constant function\n",
    "def const_function(v):\n",
    "  return 1"
   ]
  },
  {
   "cell_type": "code",
   "execution_count": 10,
   "id": "7f9132f2",
   "metadata": {},
   "outputs": [],
   "source": [
    "#the sum of elements\n",
    "def sum_function(v):\n",
    "    sum = 0\n",
    "    for i in range(0, len(v)):\n",
    "        sum += v[i]\n",
    "    return sum"
   ]
  },
  {
   "cell_type": "code",
   "execution_count": 16,
   "id": "1b50cb3e",
   "metadata": {},
   "outputs": [],
   "source": [
    "#the product of elements\n",
    "def prod_function(v):\n",
    "    prod = 1\n",
    "    for i in range(0, len(v)):\n",
    "        prod *= v[i]\n",
    "    return prod"
   ]
  },
  {
   "cell_type": "code",
   "execution_count": 22,
   "id": "1e957a9f",
   "metadata": {},
   "outputs": [],
   "source": [
    "#direct calculation P(x)\n",
    "def poly_direct_function(v, x):\n",
    "    decimal.getcontext().prec = 100 #to avoid overflow\n",
    "    res = 0\n",
    "    for i in range(len(v)):\n",
    "        res += decimal.Decimal(v[i]) * (decimal.Decimal(x) ** decimal.Decimal(i))\n",
    "    return res"
   ]
  },
  {
   "cell_type": "code",
   "execution_count": 38,
   "id": "5c071dec",
   "metadata": {},
   "outputs": [],
   "source": [
    "#Horner's calculation P(x)\n",
    "def poly_horner_function(v, x):\n",
    "    res = v[len(v)-1]\n",
    "    for i in range(len(v)-2, -1, -1):\n",
    "        res = res * x + v[i]\n",
    "    return res"
   ]
  },
  {
   "cell_type": "code",
   "execution_count": 43,
   "id": "54cbb811",
   "metadata": {},
   "outputs": [],
   "source": [
    "#Bubble sort\n",
    "def bubble_sort_function(v):\n",
    "    for i in range(len(v)):\n",
    "        for j in range(0, len(v)-i-1):\n",
    "            if v[j] > v[j+1]:\n",
    "                v[j], v[j+1] = v[j+1], v[j]\n",
    "    return v"
   ]
  },
  {
   "cell_type": "code",
   "execution_count": 46,
   "id": "6f38248a",
   "metadata": {},
   "outputs": [],
   "source": [
    "#Quick sort\n",
    "def quick_sort_function(v):\n",
    "    return np.sort(v, kind='quicksort')"
   ]
  },
  {
   "cell_type": "code",
   "execution_count": 52,
   "id": "d798d87a",
   "metadata": {},
   "outputs": [],
   "source": [
    "#Timsort релизовать самостоятельно\n",
    "def timsort_function(v):\n",
    "    return np.sort(v, kind='stable')"
   ]
  },
  {
   "cell_type": "code",
   "execution_count": 56,
   "id": "644a189c",
   "metadata": {},
   "outputs": [
    {
     "name": "stdout",
     "output_type": "stream",
     "text": [
      "A:  [[35 66 16]\n",
      " [28 77 77]\n",
      " [80 74 68]]\n",
      "B:  [[54 78 45]\n",
      " [94 62 74]\n",
      " [37 32 41]]\n"
     ]
    },
    {
     "data": {
      "text/plain": [
       "array([[ 8686,  7334,  7115],\n",
       "       [11599,  9422, 10115],\n",
       "       [13792, 13004, 11864]])"
      ]
     },
     "execution_count": 56,
     "metadata": {},
     "output_type": "execute_result"
    }
   ],
   "source": [
    "#matrix product реализовать самостоятельно\n",
    "\n",
    "def matrix_prod_function(A, B):\n",
    "    return np.matmul(A, B)\n",
    "\n",
    "#matrix generation\n",
    "\n",
    "n = 3\n",
    "A_matrix = np.random.randint(100, size=(n, n))\n",
    "B_matrix = np.random.randint(100, size=(n, n))\n",
    "print('A: ', A_matrix)\n",
    "print('B: ', B_matrix)\n",
    "\n",
    "matrix_prod_function(A_matrix, B_matrix)\n",
    "\n",
    "\n",
    "    "
   ]
  },
  {
   "cell_type": "code",
   "execution_count": 53,
   "id": "006d91dd",
   "metadata": {},
   "outputs": [
    {
     "name": "stdout",
     "output_type": "stream",
     "text": [
      "initial:  [30.72524968 72.88250984 39.00784075 87.3531659  27.73540937 99.46487503\n",
      " 67.59347721]\n",
      "424.76252777709544\n",
      "61.250\n",
      "61.25\n",
      "8.5\n",
      "[27.73540937 30.72524968 39.00784075 67.59347721 72.88250984 87.3531659\n",
      " 99.46487503]\n",
      "[5, 6, 8, 9]\n",
      "[0, 1, 7]\n",
      "[27.73540937 30.72524968 39.00784075 67.59347721 72.88250984 87.3531659\n",
      " 99.46487503]\n",
      "[27.73540937 30.72524968 39.00784075 67.59347721 72.88250984 87.3531659\n",
      " 99.46487503]\n"
     ]
    }
   ],
   "source": [
    "#Vector generation\n",
    "vector = np.random.uniform(low=0, high=100, size=7)\n",
    "print(\"initial: \", vector)\n",
    "print(sum_function(vector))\n",
    "v2 = [5, 6, 9, 8]\n",
    "v3 = [7, 1, 0]\n",
    "print(poly_direct_function(v2, x=1.5))\n",
    "print(poly_horner_function(v2, x=1.5))\n",
    "print(poly_horner_function(v3, x=1.5))\n",
    "print(bubble_sort_function(vector))\n",
    "print(bubble_sort_function(v2))\n",
    "print(bubble_sort_function(v3))\n",
    "print(quick_sort_function(vector))\n",
    "print(timsort_function(vector))\n",
    "# for n in range(1, 2001):\n",
    "#     for i(5):\n",
    "#         vector = np."
   ]
  },
  {
   "cell_type": "code",
   "execution_count": null,
   "id": "847ca20b",
   "metadata": {},
   "outputs": [],
   "source": []
  }
 ],
 "metadata": {
  "kernelspec": {
   "display_name": "Python 3",
   "language": "python",
   "name": "python3"
  },
  "language_info": {
   "codemirror_mode": {
    "name": "ipython",
    "version": 3
   },
   "file_extension": ".py",
   "mimetype": "text/x-python",
   "name": "python",
   "nbconvert_exporter": "python",
   "pygments_lexer": "ipython3",
   "version": "3.8.8"
  }
 },
 "nbformat": 4,
 "nbformat_minor": 5
}
