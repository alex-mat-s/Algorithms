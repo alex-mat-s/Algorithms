{
  "nbformat": 4,
  "nbformat_minor": 0,
  "metadata": {
    "colab": {
      "name": "Algorithms_Task8.ipynb",
      "provenance": []
    },
    "kernelspec": {
      "display_name": "Python 3",
      "name": "python3"
    },
    "language_info": {
      "name": "python"
    }
  },
  "cells": [
    {
      "cell_type": "markdown",
      "metadata": {
        "id": "W23bHoa5iVLb"
      },
      "source": [
        "# Task 8 (Extended). Practical analysis of advanced algorithms\n",
        "Alexandra Matveeva J4134c"
      ]
    },
    {
      "cell_type": "code",
      "metadata": {
        "id": "gL1g_d3niUUK"
      },
      "source": [
        "import random\n",
        "import numpy as np\n",
        "import networkx as nx\n",
        "import matplotlib.pyplot as plt\n",
        "import math\n",
        "import time\n",
        "import scipy\n",
        "import sys\n",
        "from scipy.optimize import curve_fit\n",
        "from networkx.algorithms import tree"
      ],
      "execution_count": 143,
      "outputs": []
    },
    {
      "cell_type": "markdown",
      "metadata": {
        "id": "wxvk6bAswBVQ"
      },
      "source": [
        "## Prim's algorithm"
      ]
    },
    {
      "cell_type": "code",
      "metadata": {
        "id": "L1uZkgV_Jcat"
      },
      "source": [
        "def adjacency_matrix(vertices, edges):\n",
        "  edge_min = vertices - 1\n",
        "  matrix = np.zeros((vertices, vertices))\n",
        "  edge = 0\n",
        "\n",
        "  temp = 0 \n",
        "  while temp < vertices:\n",
        "    j = np.random.randint(0, vertices)\n",
        "    # print(f'({temp}, {j})')\n",
        "    if temp != j:\n",
        "      matrix[temp][j] = np.random.randint(1, 100)\n",
        "      matrix[j][temp] = matrix[temp][j]\n",
        "      \n",
        "      edge += 1\n",
        "      temp += 1\n",
        "    \n",
        "  while edge < edges:\n",
        "    i = np.random.randint(0, vertices)\n",
        "    j = np.random.randint(0, vertices)\n",
        "    if i != j and matrix[i][j] == 0:\n",
        "      matrix[i][j] = np.random.randint(1, 100)\n",
        "      matrix[j][i] = matrix[i][j]\n",
        "      edge += 1\n",
        "  return matrix"
      ],
      "execution_count": 146,
      "outputs": []
    },
    {
      "cell_type": "code",
      "metadata": {
        "id": "dCoo-jgeGMWs"
      },
      "source": [
        "def prim_alg(matrix, span_tree, V):\n",
        "  selected = [0 for column in range(V)]\n",
        "  # set number of edge to 0\n",
        "  no_edge = 0\n",
        "\n",
        "  selected[0] = True\n",
        "\n",
        "  while (no_edge < V - 1):\n",
        "\n",
        "    minimum = float('inf')\n",
        "    x = 0\n",
        "    y = 0\n",
        "    for i in range(V):\n",
        "      if selected[i]:\n",
        "        for j in range(V):\n",
        "          if ((not selected[j]) and matrix[i][j]):  \n",
        "          # not in selected and there is an edge\n",
        "            if minimum > matrix[i][j]:\n",
        "              minimum = matrix[i][j]\n",
        "              x = i\n",
        "              y = j\n",
        "    span_tree[x][y] = matrix[x][y]\n",
        "    span_tree[y][x] = span_tree[x][y]\n",
        "    \n",
        "    selected[y] = True\n",
        "    no_edge += 1\n",
        "  return matrix, span_tree"
      ],
      "execution_count": 147,
      "outputs": []
    },
    {
      "cell_type": "code",
      "metadata": {
        "id": "UNfwKiFYQDUJ"
      },
      "source": [
        "# n^3 function estimation\n",
        "def cube_function_est(x, a):\n",
        "    return a * np.power(x, 3)"
      ],
      "execution_count": null,
      "outputs": []
    },
    {
      "cell_type": "code",
      "metadata": {
        "id": "Q-gcA_XloXw6"
      },
      "source": [
        "# nlogn function estimation\n",
        "def nlogn_function_est(x, a):\n",
        "  return a * x * np.log(x)"
      ],
      "execution_count": 169,
      "outputs": []
    },
    {
      "cell_type": "code",
      "metadata": {
        "id": "JrAZr4FcFQh1"
      },
      "source": [
        "V_init = 3\n",
        "V_max = 200\n",
        "avg_times_cube = []\n",
        "\n",
        "for vert in range(V_init, V_max):\n",
        "  t = []\n",
        "  min_e = vert - 1\n",
        "  max_e = (vert - 1) * vert / 2\n",
        "  ed = random.randint(min_e, max_e)\n",
        "\n",
        "  for i in range(5):\n",
        "    G = adjacency_matrix(vert, ed)\n",
        "    GG = np.zeros((vert, vert))\n",
        "\n",
        "    start_t = time.perf_counter()\n",
        "    G, GG = prim_alg(G, GG, vert)\n",
        "    end_t = time.perf_counter()\n",
        "\n",
        "    t.append(end_t - start_t)\n",
        "\n",
        "  avg_times_cube.append(np.mean(t))"
      ],
      "execution_count": 148,
      "outputs": []
    },
    {
      "cell_type": "code",
      "metadata": {
        "id": "4vWknchUQusJ"
      },
      "source": [
        "# python implementation\n",
        "\n",
        "# V_init = 3\n",
        "# V_max = 200\n",
        "# avg_times_impl = []\n",
        "\n",
        "# for vert in range(V_init, V_max):\n",
        "#   t = []\n",
        "#   min_e = vert - 1\n",
        "#   max_e = (vert - 1) * vert / 2\n",
        "#   ed = random.randint(min_e, max_e)\n",
        "\n",
        "#   for i in range(5):\n",
        "#     G = adjacency_matrix(vert, ed)\n",
        "    \n",
        "#     g = nx.Graph(G)\n",
        "\n",
        "#     start_t = time.perf_counter()\n",
        "\n",
        "#     tree.minimum_spanning_edges(g, algorithm=\"prim\", data=False) \n",
        "\n",
        "#     end_t = time.perf_counter()\n",
        "\n",
        "#     t.append(end_t - start_t)\n",
        "\n",
        "#   avg_times_impl.append(np.mean(t))\n",
        "\n",
        "\n",
        "\n"
      ],
      "execution_count": null,
      "outputs": []
    },
    {
      "cell_type": "code",
      "metadata": {
        "colab": {
          "base_uri": "https://localhost:8080/",
          "height": 295
        },
        "id": "qpvmw-5sTNH2",
        "outputId": "dcd59365-55a5-43a5-b309-c5e0cbce2805"
      },
      "source": [
        "x_data = [n for n in range(V_init, V_max)]\n",
        "\n",
        "_, ax = plt.subplots()\n",
        "    \n",
        "ax.plot(x_data, avg_times_cube, lw = 2, color = '#539caf', alpha = 1)\n",
        "\n",
        "popt_cube, cov_cube = curve_fit(cube_function_est, x_data, avg_times_cube)\n",
        "plt.plot(x_data, cube_function_est(x_data, *popt_cube), 'r-')\n",
        "\n",
        "plt.legend([\"Experimental\", \"Theoretical\"])\n",
        "\n",
        "ax.grid()\n",
        "ax.set_title(\"Time complexity of Prim's algorithm\")\n",
        "ax.set_xlabel('V')\n",
        "ax.set_ylabel('Time')\n",
        "plt.show()"
      ],
      "execution_count": 150,
      "outputs": [
        {
          "output_type": "display_data",
          "data": {
            "image/png": "[encoded data removed]",
            "text/plain": [
              "<Figure size 432x288 with 1 Axes>"
            ]
          },
          "metadata": {
            "needs_background": "light"
          }
        }
      ]
    },
    {
      "cell_type": "code",
      "metadata": {
        "id": "7MUTGeA5bIcr",
        "colab": {
          "base_uri": "https://localhost:8080/"
        },
        "outputId": "49057545-3962-4efa-d608-bf2ea1690cf8"
      },
      "source": [
        "G"
      ],
      "execution_count": 149,
      "outputs": [
        {
          "output_type": "execute_result",
          "data": {
            "text/plain": [
              "array([[ 0., 38., 14., ..., 36., 89., 16.],\n",
              "       [38.,  0., 15., ..., 39., 90., 23.],\n",
              "       [14., 15.,  0., ..., 39.,  7., 16.],\n",
              "       ...,\n",
              "       [36., 39., 39., ...,  0., 61., 80.],\n",
              "       [89., 90.,  7., ..., 61.,  0.,  0.],\n",
              "       [16., 23., 16., ..., 80.,  0.,  0.]])"
            ]
          },
          "metadata": {},
          "execution_count": 149
        }
      ]
    },
    {
      "cell_type": "code",
      "metadata": {
        "colab": {
          "base_uri": "https://localhost:8080/",
          "height": 924
        },
        "id": "j6VKW2Z-irEA",
        "outputId": "62b57d80-8169-41f2-9c3d-de6a2292200f"
      },
      "source": [
        "print('\\nAlgorithm visualization\\n')\n",
        "\n",
        "G_vis = adjacency_matrix(12, 17)\n",
        "GG_vis = np.zeros((12, 12))\n",
        "\n",
        "print('Adjecency matrix:\\n', G_vis[:12, :12], '\\n')\n",
        "\n",
        "G_vis, GG_vis = prim_alg(G_vis, GG_vis, 12)\n",
        "\n",
        "print('Min Spanning Tree matrix:\\n', GG_vis[:6, :6], '\\n')\n",
        "\n",
        "G = nx.Graph(G_vis)\n",
        "GG = nx.Graph(GG_vis)\n",
        "pos = nx.random_layout(G)\n",
        "plt.figure(3, figsize=(10, 8))\n",
        "labels = {}\n",
        "for k in range(12):\n",
        "  labels[k] = \"{0}\".format(k)\n",
        "nx.draw_networkx_labels(G, pos, labels, font_size=8, font_color=\"black\")\n",
        "nx.draw(G, pos, node_size = 400, node_color = \"lightblue\", edge_color = \"black\")\n",
        "nx.draw_networkx_edges(GG,pos=pos, edge_color='r')"
      ],
      "execution_count": 160,
      "outputs": [
        {
          "output_type": "stream",
          "name": "stdout",
          "text": [
            "\n",
            "Algorithm visualization\n",
            "\n",
            "Adjecency matrix:\n",
            " [[ 0. 19.  0.  0.  0.  0.  0.  0. 14.  0.  0.  0.]\n",
            " [19.  0.  0.  0.  0.  0. 43. 27. 79. 72.  0. 64.]\n",
            " [ 0.  0.  0.  0.  0.  0.  0.  0.  0.  0.  0.  3.]\n",
            " [ 0.  0.  0.  0.  0.  0.  0.  0. 14.  0.  0.  0.]\n",
            " [ 0.  0.  0.  0.  0. 28.  0.  0.  0.  0. 21. 64.]\n",
            " [ 0.  0.  0.  0. 28.  0.  0.  0.  0. 62.  0.  0.]\n",
            " [ 0. 43.  0.  0.  0.  0.  0.  0.  0.  0. 12.  0.]\n",
            " [ 0. 27.  0.  0.  0.  0.  0.  0.  0.  0.  0.  0.]\n",
            " [14. 79.  0. 14.  0.  0.  0.  0.  0. 45.  0.  0.]\n",
            " [ 0. 72.  0.  0.  0. 62.  0.  0. 45.  0.  0.  0.]\n",
            " [ 0.  0.  0.  0. 21.  0. 12.  0.  0.  0.  0. 18.]\n",
            " [ 0. 64.  3.  0. 64.  0.  0.  0.  0.  0. 18.  0.]] \n",
            "\n",
            "Min Spanning Tree matrix:\n",
            " [[ 0. 19.  0.  0.  0.  0.]\n",
            " [19.  0.  0.  0.  0.  0.]\n",
            " [ 0.  0.  0.  0.  0.  0.]\n",
            " [ 0.  0.  0.  0.  0.  0.]\n",
            " [ 0.  0.  0.  0.  0. 28.]\n",
            " [ 0.  0.  0.  0. 28.  0.]] \n",
            "\n"
          ]
        },
        {
          "output_type": "execute_result",
          "data": {
            "text/plain": [
              "<matplotlib.collections.LineCollection at 0x7fbbaf1a3990>"
            ]
          },
          "metadata": {},
          "execution_count": 160
        },
        {
          "output_type": "display_data",
          "data": {
            "image/png": "[encoded data removed]",
            "text/plain": [
              "<Figure size 720x576 with 1 Axes>"
            ]
          },
          "metadata": {}
        }
      ]
    },
    {
      "cell_type": "markdown",
      "metadata": {
        "id": "Hukme78cg3hF"
      },
      "source": [
        "# Heap sort"
      ]
    },
    {
      "cell_type": "code",
      "metadata": {
        "id": "bdywqqRLlz8R"
      },
      "source": [
        "def heapify(arr, n, i):\n",
        "  largest = i  # Initialize largest as root\n",
        "  l = 2 * i + 1     # left = 2*i + 1\n",
        "  r = 2 * i + 2     # right = 2*i + 2\n",
        " \n",
        "  # See if left child of root exists and is\n",
        "  # greater than root\n",
        "  if l < n and arr[largest] < arr[l]:\n",
        "    largest = l\n",
        " \n",
        "  # See if right child of root exists and is\n",
        "  # greater than root\n",
        "  if r < n and arr[largest] < arr[r]:\n",
        "    largest = r\n",
        " \n",
        "  # Change root, if needed\n",
        "  if largest != i:\n",
        "    arr[i], arr[largest] = arr[largest], arr[i]  # swap\n",
        " \n",
        "    # Heapify the root.\n",
        "    heapify(arr, n, largest)"
      ],
      "execution_count": 163,
      "outputs": []
    },
    {
      "cell_type": "code",
      "metadata": {
        "id": "9msvIX6NmCEp"
      },
      "source": [
        "def heapSort(arr):\n",
        "  n = len(arr)\n",
        " \n",
        "  # Build a maxheap.\n",
        "  for i in range(n//2 - 1, -1, -1):\n",
        "    heapify(arr, n, i)\n",
        " \n",
        "  # One by one extract elements\n",
        "  for i in range(n-1, 0, -1):\n",
        "    arr[i], arr[0] = arr[0], arr[i]  # swap\n",
        "    heapify(arr, i, 0)"
      ],
      "execution_count": 164,
      "outputs": []
    },
    {
      "cell_type": "code",
      "metadata": {
        "colab": {
          "base_uri": "https://localhost:8080/"
        },
        "id": "JKf_7BxGg5fG",
        "outputId": "6f0bc159-3677-4475-c372-61d94d8e5958"
      },
      "source": [
        "# сразу массив заполнить от 0 до n\n",
        "# best\n",
        "arr = [12, 11, 13, 5, 6, 7]\n",
        "heapSort(arr)\n",
        "n = len(arr)\n",
        "print(\"Sorted array is\")\n",
        "for i in range(n):\n",
        "    print(\"%d\" % arr[i]),\n",
        "# This code is contributed by Mohit Kumra"
      ],
      "execution_count": 165,
      "outputs": [
        {
          "output_type": "stream",
          "name": "stdout",
          "text": [
            "Sorted array is\n",
            "5\n",
            "6\n",
            "7\n",
            "11\n",
            "12\n",
            "13\n"
          ]
        }
      ]
    },
    {
      "cell_type": "code",
      "metadata": {
        "id": "Hna8cYjLmxlz"
      },
      "source": [
        "# average\n",
        "\n",
        "avg_times_average = []\n",
        "\n",
        "for n in range(1, 500):\n",
        "  t = []\n",
        "\n",
        "  for j in range(5):\n",
        "    #vector initialization\n",
        "    vector = np.random.uniform(low=0, high=100, size=n)\n",
        "\n",
        "    start_t = time.perf_counter()\n",
        "    heapSort(vector)\n",
        "    end_t = time.perf_counter()\n",
        "\n",
        "    t.append(end_t - start_t)\n",
        "\n",
        "  avg_times_average.append(np.mean(t))"
      ],
      "execution_count": 168,
      "outputs": []
    },
    {
      "cell_type": "code",
      "metadata": {
        "id": "ceCpmww2mW3A"
      },
      "source": [
        "# worst\n",
        "\n",
        "# сразц заполнить массив от n до 0"
      ],
      "execution_count": null,
      "outputs": []
    },
    {
      "cell_type": "code",
      "metadata": {
        "colab": {
          "base_uri": "https://localhost:8080/",
          "height": 295
        },
        "id": "PTUGHnTFne0c",
        "outputId": "27be2bf5-8c28-4fc9-bb6b-e583541a91f2"
      },
      "source": [
        "# x_data = [n for n in range(1, 500)]\n",
        "\n",
        "_, ax = plt.subplots()\n",
        "    \n",
        "ax.plot(x_data, avg_times_average[1:], lw = 2, color = '#539caf', alpha = 1)\n",
        "\n",
        "# popt, cov_cube = curve_fit(nlogn_function_est, x_data, avg_times_average)\n",
        "\n",
        "\n",
        "x_data = np.linspace(1, len(avg_times_average), len(avg_times_average)-1, dtype=np.float64)\n",
        "    \n",
        "popt, cov = curve_fit(nlogn_function_est, x_data, avg_times_average[1:])\n",
        "plt.plot(x_data, nlogn_function_est(x_data, *popt_best), 'r-')\n",
        "\n",
        "plt.legend([\"Experimental\", \"Theoretical (best)\"])\n",
        "\n",
        "ax.grid()\n",
        "ax.set_title(\"Time complexity of Heap Sort algorithm\")\n",
        "ax.set_xlabel('n')\n",
        "ax.set_ylabel('Time')\n",
        "plt.show()"
      ],
      "execution_count": 175,
      "outputs": [
        {
          "output_type": "display_data",
          "data": {
            "image/png": "[encoded data removed]",
            "text/plain": [
              "<Figure size 432x288 with 1 Axes>"
            ]
          },
          "metadata": {
            "needs_background": "light"
          }
        }
      ]
    },
    {
      "cell_type": "code",
      "metadata": {
        "id": "zjuwuGA-oEuw"
      },
      "source": [
        ""
      ],
      "execution_count": null,
      "outputs": []
    }
  ]
}