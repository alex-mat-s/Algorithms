{
 "cells": [
  {
   "cell_type": "markdown",
   "id": "ed85265f",
   "metadata": {},
   "source": [
    "# Task2. Algorithms for unconstrained nonlinear optimization. Direct methods\n",
    "Alexandra Matveeva, J4134c"
   ]
  },
  {
   "cell_type": "code",
   "execution_count": 1,
   "id": "2c2fd892",
   "metadata": {},
   "outputs": [],
   "source": [
    "# eps = 0.001 \n",
    "# one-dimensional methods: \n",
    "#      - exhaustive search (brute-force search)\n",
    "#      - dichotomy\n",
    "#      - golden section search"
   ]
  },
  {
   "cell_type": "code",
   "execution_count": 2,
   "id": "44380df2",
   "metadata": {},
   "outputs": [],
   "source": [
    "import math\n",
    "import numpy as np\n",
    "import random\n",
    "import matplotlib.pyplot as plt\n",
    "import scipy\n",
    "from scipy import optimize\n",
    "from functools import partial"
   ]
  },
  {
   "cell_type": "code",
   "execution_count": 3,
   "id": "a381e367",
   "metadata": {},
   "outputs": [],
   "source": [
    "def cube_func(x, f_count):\n",
    "    f_count += 1\n",
    "    return [x ** 3, f_count]"
   ]
  },
  {
   "cell_type": "code",
   "execution_count": 4,
   "id": "d8cbf37a",
   "metadata": {},
   "outputs": [],
   "source": [
    "def abs_func(x, f_count):\n",
    "    f_count += 1\n",
    "    return [math.fabs(x - 0.2), f_count]"
   ]
  },
  {
   "cell_type": "code",
   "execution_count": 5,
   "id": "e974da77",
   "metadata": {},
   "outputs": [],
   "source": [
    "def sin_func(x, f_count):\n",
    "    f_count += 1\n",
    "    return [x * np.sin(1/x), f_count]"
   ]
  },
  {
   "cell_type": "code",
   "execution_count": 6,
   "id": "63afe1d4",
   "metadata": {},
   "outputs": [],
   "source": [
    "eps = 1e-3"
   ]
  },
  {
   "cell_type": "code",
   "execution_count": 7,
   "id": "3771090d",
   "metadata": {},
   "outputs": [],
   "source": [
    "# exhaustive search method (brute-force search)\n",
    "def exhaustive_method(a, b, func):\n",
    "    f_count = 0\n",
    "    it = 1 #number of iterations\n",
    "    n = int((b - a) / eps)\n",
    "    arg = a\n",
    "    f_min, f_count = func(a, f_count) # k = 0\n",
    "    for k in range(1, n):\n",
    "        it += 1\n",
    "        x = a + k * (b - a) / n\n",
    "        f, f_count = func(x, f_count)\n",
    "        if(f <= f_min):\n",
    "            arg = x\n",
    "            f_min = f\n",
    "    print(f'{func}:\\t ','arg = {:.3f} Minimum: {:.3f} Number of f-calculations: {:.0f} Iterations: {:.0f}'.format(arg, f_min, f_count, it))\n",
    "#     print('x = ', arg)\n",
    "#     print('f(x) = ', f_min)"
   ]
  },
  {
   "cell_type": "code",
   "execution_count": 8,
   "id": "a51c9c31",
   "metadata": {},
   "outputs": [],
   "source": [
    "# dichotomy \n",
    "def dichotomy(a, b, func):\n",
    "    f_count = 0 #number of function calculations\n",
    "    it = 1\n",
    "    delta = eps / 2\n",
    "    x1 = (a + b - delta) / 2\n",
    "    x2 = (a + b + delta) / 2\n",
    "    f1, f_count = func(x1, f_count)\n",
    "    f2, f_count = func(x2, f_count)\n",
    "    while(abs(a - b) >= eps):\n",
    "        it += 1\n",
    "        if(f1 <= f2):\n",
    "            b = x2\n",
    "        else:\n",
    "            a = x1\n",
    "        x1 = (a + b - delta) / 2\n",
    "        x2 = (a + b + delta) / 2\n",
    "        f1, f_count = func(x1, f_count)\n",
    "        f2, f_count = func(x2, f_count)\n",
    "    x = (x1 + x2) / 2\n",
    "    f_min, f_count = func(x, f_count)\n",
    "    print(f'{func}:\\t ','arg = {:.3f} Minimum: {:.3f} Number of f-calculations: {:.0f} Iterations: {:.0f}'.format(x, f_min, f_count, it))\n",
    "#     print('x = ', x)\n",
    "#     print('f(x) = ', f_min)"
   ]
  },
  {
   "cell_type": "code",
   "execution_count": 9,
   "id": "e7cb9aa1",
   "metadata": {},
   "outputs": [],
   "source": [
    "# golden section search\n",
    "def goldenSection_func(a, b, func):\n",
    "    f_count = 0 # number of function calculations\n",
    "    it = 1 # number of iterations\n",
    "    alpha1 = (3 - 5 ** 0.5) / 2\n",
    "    alpha2 = (5 ** 0.5 - 3) / 2\n",
    "    \n",
    "    x1 = a + alpha1 * (b - a)\n",
    "    x2 = b + alpha2 * (b - a)\n",
    "    f_x1, f_count = func(x1, f_count)\n",
    "    f_x2, f_count = func(x2, f_count)\n",
    "    \n",
    "    while(abs(a - b) >= eps):\n",
    "        it += 1\n",
    "        f_x1, f_count = func(x1, f_count)\n",
    "        f_x2, f_count = func(x2, f_count)\n",
    "        \n",
    "        if(f_x1 <= f_x2):\n",
    "            b = x2\n",
    "            x2 = x1\n",
    "            x1 = a + alpha1 * (b - a)\n",
    "        else:\n",
    "            a = x1 \n",
    "            x1 = x2\n",
    "            x2 = b + alpha2 * (b - a)\n",
    "            \n",
    "    x = (x1 + x2) / 2\n",
    "    f_min, f_count = func(x, f_count)\n",
    "    print(f'{func}:\\t ','arg = {:.3f} Minimum: {:.3f} Number of f-calculations: {:.0f} Iterations: {:.0f}'.format(x, f_min, f_count, it))\n",
    "#     print('x = ', x)\n",
    "#     print('f(x) = ', f_min)"
   ]
  },
  {
   "cell_type": "code",
   "execution_count": 10,
   "id": "85e888ec",
   "metadata": {},
   "outputs": [
    {
     "name": "stdout",
     "output_type": "stream",
     "text": [
      "Exhaustive search (Brute-force)\n",
      "<function cube_func at 0x000001ACF2292280>:\t  arg = 0.000 Minimum: 0.000 Number of f-calculations: 1000 Iterations: 1000\n",
      "<function abs_func at 0x000001ACEF8754C0>:\t  arg = 0.200 Minimum: 0.000 Number of f-calculations: 1000 Iterations: 1000\n",
      "<function sin_func at 0x000001ACEF875A60>:\t  arg = 0.223 Minimum: -0.217 Number of f-calculations: 990 Iterations: 990\n",
      "\n",
      "Dichotomy search method\n",
      "<function cube_func at 0x000001ACF2292280>:\t  arg = 0.000 Minimum: 0.000 Number of f-calculations: 25 Iterations: 12\n",
      "<function abs_func at 0x000001ACEF8754C0>:\t  arg = 0.200 Minimum: 0.000 Number of f-calculations: 25 Iterations: 12\n",
      "<function sin_func at 0x000001ACEF875A60>:\t  arg = 0.223 Minimum: -0.217 Number of f-calculations: 25 Iterations: 12\n",
      "\n",
      "Golden section search method\n",
      "<function cube_func at 0x000001ACF2292280>:\t  arg = 0.000 Minimum: 0.000 Number of f-calculations: 33 Iterations: 16\n",
      "<function abs_func at 0x000001ACEF8754C0>:\t  arg = 0.200 Minimum: 0.000 Number of f-calculations: 33 Iterations: 16\n",
      "<function sin_func at 0x000001ACEF875A60>:\t  arg = 0.223 Minimum: -0.217 Number of f-calculations: 33 Iterations: 16\n"
     ]
    }
   ],
   "source": [
    "print('Exhaustive search (Brute-force)')\n",
    "exhaustive_method(0, 1, cube_func)\n",
    "exhaustive_method(0, 1, abs_func)\n",
    "exhaustive_method(0.01, 1, sin_func)\n",
    "\n",
    "print('\\nDichotomy search method')\n",
    "dichotomy(0, 1, cube_func)\n",
    "dichotomy(0, 1, abs_func)\n",
    "dichotomy(0.01, 1, sin_func)\n",
    "\n",
    "print('\\nGolden section search method')\n",
    "goldenSection_func(0, 1, cube_func)\n",
    "goldenSection_func(0, 1, abs_func)\n",
    "goldenSection_func(0.01, 1, sin_func)"
   ]
  },
  {
   "cell_type": "code",
   "execution_count": 11,
   "id": "320a5ca3",
   "metadata": {},
   "outputs": [
    {
     "name": "stdout",
     "output_type": "stream",
     "text": [
      "0.9191840137905405 0.7581986142846943\n"
     ]
    }
   ],
   "source": [
    "alpha, beta = random.random(), random.random()\n",
    "print(alpha, beta)"
   ]
  },
  {
   "cell_type": "code",
   "execution_count": 12,
   "id": "cd9b0fac",
   "metadata": {},
   "outputs": [],
   "source": [
    "# noisy data generation\n",
    "x = []\n",
    "yk = []\n",
    "y_init = []\n",
    "for k in range(101):\n",
    "    x.append(k / 100)\n",
    "    y_init.append(alpha * x[k] + beta)\n",
    "    yk.append(y_init[k] + np.random.normal(0, 1))"
   ]
  },
  {
   "cell_type": "code",
   "execution_count": 13,
   "id": "06b64614",
   "metadata": {},
   "outputs": [],
   "source": [
    "# linear approximation function\n",
    "\n",
    "def linear_approx_func(x, a, b):\n",
    "    y = []\n",
    "    for i in range(101):\n",
    "        y.append(a * x[i] + b)\n",
    "    return np.array(y)"
   ]
  },
  {
   "cell_type": "code",
   "execution_count": 14,
   "id": "bbc477b0",
   "metadata": {},
   "outputs": [],
   "source": [
    "# rational approximation function\n",
    "def rational_approx_func(x, a, b):\n",
    "    y = []\n",
    "    for i in range(101):\n",
    "        y.append(a / (1 + b * x[i]))\n",
    "    return np.array(y)"
   ]
  },
  {
   "cell_type": "code",
   "execution_count": 15,
   "id": "3ed00d5d",
   "metadata": {},
   "outputs": [],
   "source": [
    "def least_squares_linear(params, y_f, x):\n",
    "    a, b = params\n",
    "    return np.sum((linear_approx_func(x, a, b) - y_f) ** 2)"
   ]
  },
  {
   "cell_type": "code",
   "execution_count": 16,
   "id": "73841343",
   "metadata": {},
   "outputs": [],
   "source": [
    "def least_squares_rational(params, y_f, x):\n",
    "    a, b = params\n",
    "    return np.sum((rational_approx_func(x, a, b) - y_f) ** 2)"
   ]
  },
  {
   "cell_type": "code",
   "execution_count": 17,
   "id": "020fbde6",
   "metadata": {},
   "outputs": [
    {
     "name": "stdout",
     "output_type": "stream",
     "text": [
      "Linear optimization (exhaustive search method):\n",
      " 0.7978994967423588 0.7785930085573406\n",
      "\n",
      "Linear optimization (Gauss search method):\n",
      "    direc: array([[ 0.       ,  1.       ],\n",
      "       [-0.8671978,  0.4335989]])\n",
      "     fun: 95.8734584130468\n",
      " message: 'Optimization terminated successfully.'\n",
      "    nfev: 101\n",
      "     nit: 3\n",
      "  status: 0\n",
      " success: True\n",
      "       x: array([0.79790521, 0.77857019])\n",
      "\n",
      "Linear optimization (Nelder-Mead method):\n",
      "  final_simplex: (array([[0.79734907, 0.77868096],\n",
      "       [0.79823092, 0.77817183],\n",
      "       [0.7973442 , 0.77925076]]), array([95.8734639 , 95.87346493, 95.87347728]))\n",
      "           fun: 95.87346389521713\n",
      "       message: 'Optimization terminated successfully.'\n",
      "          nfev: 113\n",
      "           nit: 58\n",
      "        status: 0\n",
      "       success: True\n",
      "             x: array([0.79734907, 0.77868096])\n"
     ]
    }
   ],
   "source": [
    "# linear optimization brute\n",
    "a_brute_lin, b_brute_lin = scipy.optimize.brute(least_squares_linear, [[0, 1],[0, 1]], args=(yk, x))\n",
    "print('Linear optimization (exhaustive search method):\\n', a_brute_lin, b_brute_lin)\n",
    "\n",
    "# linear optimization Gauss method\n",
    "powell_lin = scipy.optimize.minimize(least_squares_linear, [0, 0], args=(yk, x), method='Powell', tol=eps)\n",
    "print('\\nLinear optimization (Gauss search method):\\n', powell_lin)\n",
    "\n",
    "# linear optimization Nelder-Mead\n",
    "nelderMead_lin = scipy.optimize.minimize(least_squares_linear, [0, 0], args=(yk, x), method='Nelder-Mead', tol=eps)\n",
    "print('\\nLinear optimization (Nelder-Mead method):\\n', nelderMead_lin)\n"
   ]
  },
  {
   "cell_type": "code",
   "execution_count": 18,
   "id": "ede5ae73",
   "metadata": {},
   "outputs": [
    {
     "data": {
      "image/png": "[encoded data removed]",
      "text/plain": [
       "<Figure size 864x576 with 1 Axes>"
      ]
     },
     "metadata": {
      "needs_background": "light"
     },
     "output_type": "display_data"
    }
   ],
   "source": [
    "y_linear_opt_brute = []\n",
    "for i in range(101):\n",
    "    y_linear_opt_brute.append(a_brute_lin * x[i] + b_brute_lin)\n",
    "\n",
    "y_linear_opt_powell = []\n",
    "for i in range(101):\n",
    "    y_linear_opt_powell.append(powell_lin.x[0] * x[i] + powell_lin.x[1])\n",
    "    \n",
    "y_linear_opt_nelderMead = []\n",
    "for i in range(101):\n",
    "    y_linear_opt_nelderMead.append(nelderMead_lin.x[0] * x[i] + nelderMead_lin.x[1])\n",
    "    \n",
    "plt.figure(figsize=(12, 8))\n",
    "plt.grid()\n",
    "plt.plot(x, yk, 'ro')\n",
    "plt.plot(x, y_init, color='black')\n",
    "plt.plot(x, y_linear_opt_brute, color='yellow')\n",
    "plt.plot(x, y_linear_opt_powell, color='blue')\n",
    "plt.plot(x, y_linear_opt_nelderMead, color='green')\n",
    "plt.legend(['Noisy data', 'Non noisy data', 'Brute force method', 'Gauss search method', 'Nelder-Mead method'])\n",
    "plt.show()"
   ]
  },
  {
   "cell_type": "code",
   "execution_count": 19,
   "id": "3231c160",
   "metadata": {},
   "outputs": [
    {
     "name": "stdout",
     "output_type": "stream",
     "text": [
      "Rational optimization (exhaustive search method):\n",
      " 0.8797438118270169 -0.4601464603013651\n",
      "\n",
      "Rational optimization (Gauss search method):\n",
      "    direc: array([[ 0.        ,  1.        ],\n",
      "       [-0.21163054, -0.21078657]])\n",
      "     fun: 96.30677761419632\n",
      " message: 'Optimization terminated successfully.'\n",
      "    nfev: 75\n",
      "     nit: 3\n",
      "  status: 0\n",
      " success: True\n",
      "       x: array([ 0.87959991, -0.45972971])\n",
      "\n",
      "Rationl optimization (Nelder-Mead method):\n",
      "  final_simplex: (array([[ 0.87964361, -0.46032344],\n",
      "       [ 0.88003429, -0.45970613],\n",
      "       [ 0.87975407, -0.45982896]]), array([96.30673041, 96.30673805, 96.30674332]))\n",
      "           fun: 96.30673041079261\n",
      "       message: 'Optimization terminated successfully.'\n",
      "          nfev: 111\n",
      "           nit: 57\n",
      "        status: 0\n",
      "       success: True\n",
      "             x: array([ 0.87964361, -0.46032344])\n"
     ]
    }
   ],
   "source": [
    "# rational optimization brute\n",
    "a_brute_rat, b_brute_rat = scipy.optimize.brute(least_squares_rational, [[0, 1],[0, 1]], args=(yk, x))\n",
    "print('Rational optimization (exhaustive search method):\\n', a_brute_rat, b_brute_rat)\n",
    "\n",
    "# rational optimization Gauss method\n",
    "powell_rat = scipy.optimize.minimize(least_squares_rational, [0, 0], args=(yk, x), method='Powell', tol=eps)\n",
    "print('\\nRational optimization (Gauss search method):\\n', powell_rat)\n",
    "\n",
    "# rational optimization Nelder-Mead\n",
    "nelderMead_rat = scipy.optimize.minimize(least_squares_rational, [0, 0], args=(yk, x), method='Nelder-Mead', tol=eps)\n",
    "print('\\nRationl optimization (Nelder-Mead method):\\n', nelderMead_rat)\n"
   ]
  },
  {
   "cell_type": "code",
   "execution_count": 20,
   "id": "72acf1cc",
   "metadata": {},
   "outputs": [
    {
     "data": {
      "image/png": "[encoded data removed]",
      "text/plain": [
       "<Figure size 864x576 with 1 Axes>"
      ]
     },
     "metadata": {
      "needs_background": "light"
     },
     "output_type": "display_data"
    }
   ],
   "source": [
    "y_rational_opt_brute = []\n",
    "for i in range(101):\n",
    "    y_rational_opt_brute.append(a_brute_rat / (1 + b_brute_rat * x[i]))\n",
    "\n",
    "y_rational_opt_powell = []\n",
    "for i in range(101):\n",
    "    y_rational_opt_powell.append(powell_rat.x[0] / (1 + powell_rat.x[1] * x[i]))\n",
    "    \n",
    "y_rational_opt_nelderMead = []\n",
    "for i in range(101):\n",
    "    y_rational_opt_nelderMead.append(nelderMead_rat.x[0] / (1 + nelderMead_rat.x[1] * x[i]))\n",
    "    \n",
    "plt.figure(figsize=(12, 8))\n",
    "plt.grid()\n",
    "plt.plot(x, yk, 'ro')\n",
    "plt.plot(x, y_init, color='black')\n",
    "plt.plot(x, y_rational_opt_brute, color='yellow')\n",
    "plt.plot(x, y_rational_opt_powell, color='blue')\n",
    "plt.plot(x, y_rational_opt_nelderMead, color='green')\n",
    "plt.legend(['Noisy data', 'Non noisy data', 'Brute force method', 'Gauss search method', 'Nelder-Mead method'])\n",
    "plt.show()"
   ]
  }
 ],
 "metadata": {
  "kernelspec": {
   "display_name": "Python 3",
   "language": "python",
   "name": "python3"
  },
  "language_info": {
   "codemirror_mode": {
    "name": "ipython",
    "version": 3
   },
   "file_extension": ".py",
   "mimetype": "text/x-python",
   "name": "python",
   "nbconvert_exporter": "python",
   "pygments_lexer": "ipython3",
   "version": "3.8.8"
  }
 },
 "nbformat": 4,
 "nbformat_minor": 5
}
